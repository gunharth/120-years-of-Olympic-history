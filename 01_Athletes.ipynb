{
 "cells": [
  {
   "cell_type": "markdown",
   "metadata": {},
   "source": [
    "## Playing with Austrian athletes and formatting options\n",
    "\n",
    "Contents\n",
    "1. How many Austrians took part in Olympic Games?\n",
    "2. How many times did an athlete took part and what was his age?\n",
    "3. output formatting\n",
    "4. A 'LIKE' query for similar names\n",
    "5. What is the average age of all athletes?\n",
    "6. Who were the oldest and the youngest Austrian athletes?"
   ]
  },
  {
   "cell_type": "markdown",
   "metadata": {},
   "source": [
    "### Uncomment if not installed"
   ]
  },
  {
   "cell_type": "code",
   "execution_count": 1,
   "metadata": {},
   "outputs": [],
   "source": [
    "# import sys\n",
    "# !{sys.executable} -m pip install rdflib pandas"
   ]
  },
  {
   "cell_type": "code",
   "execution_count": 2,
   "metadata": {},
   "outputs": [],
   "source": [
    "from rdflib import Graph\n",
    "from pandas import DataFrame"
   ]
  },
  {
   "cell_type": "markdown",
   "metadata": {},
   "source": [
    "### Import ttl files\n",
    "\n",
    "Switch between the data source folder for the turtle files.  \n",
    "\"ttl\" imports the files generated with OpenRefine  \n",
    "\"tarql\" imports the files generated with tarql"
   ]
  },
  {
   "cell_type": "code",
   "execution_count": 3,
   "metadata": {},
   "outputs": [],
   "source": [
    "source = \"ttl\"\n",
    "# source = \"tarql\""
   ]
  },
  {
   "cell_type": "code",
   "execution_count": 4,
   "metadata": {},
   "outputs": [
    {
     "name": "stdout",
     "output_type": "stream",
     "text": [
      "15317\n"
     ]
    }
   ],
   "source": [
    "g = Graph()\n",
    "g.parse(source + \"/Athletes.ttl\", format=\"turtle\")\n",
    "print(len(g))"
   ]
  },
  {
   "cell_type": "code",
   "execution_count": 5,
   "metadata": {},
   "outputs": [
    {
     "name": "stdout",
     "output_type": "stream",
     "text": [
      "15547\n"
     ]
    }
   ],
   "source": [
    "g.parse(\"ttl/Noc_Regions.ttl\", format=\"turtle\")\n",
    "print(len(g))"
   ]
  },
  {
   "cell_type": "markdown",
   "metadata": {},
   "source": [
    "## 1. How many Austrians took part in Olympic Games?"
   ]
  },
  {
   "cell_type": "code",
   "execution_count": 6,
   "metadata": {},
   "outputs": [
    {
     "name": "stdout",
     "output_type": "stream",
     "text": [
      "2334 Austrian took part\n"
     ]
    }
   ],
   "source": [
    "result = g.query(\"\"\"\n",
    "    PREFIX foaf:  <http://xmlns.com/foaf/0.1/>\n",
    "    PREFIX rdfs: <http://www.w3.org/2000/01/rdf-schema#>\n",
    "\n",
    "    SELECT (COUNT(DISTINCT ?name) AS ?count)\n",
    "    WHERE {\n",
    "        ?athlete a foaf:Person;\n",
    "                 rdfs:label ?name;\n",
    "    }\n",
    "\"\"\")\n",
    "\n",
    "for row in result:\n",
    "    print(\"%s Austrian took part\" % row)"
   ]
  },
  {
   "cell_type": "markdown",
   "metadata": {},
   "source": [
    "## 2. How many times did an athlete took part and what was his age?\n",
    "\n",
    "eg: Hubert Raudaschl, Christoph Sumann, Hermann Maier, ..."
   ]
  },
  {
   "cell_type": "code",
   "execution_count": 7,
   "metadata": {},
   "outputs": [
    {
     "name": "stdout",
     "output_type": "stream",
     "text": [
      "Total  9\n",
      "(rdflib.term.Literal('Hubert Raudaschl', lang='en'), rdflib.term.Literal('22', datatype=rdflib.term.URIRef('http://www.w3.org/2001/XMLSchema#int')), rdflib.term.Literal('Austria'))\n",
      "(rdflib.term.Literal('Hubert Raudaschl', lang='en'), rdflib.term.Literal('26', datatype=rdflib.term.URIRef('http://www.w3.org/2001/XMLSchema#int')), rdflib.term.Literal('Austria'))\n",
      "(rdflib.term.Literal('Hubert Raudaschl', lang='en'), rdflib.term.Literal('30', datatype=rdflib.term.URIRef('http://www.w3.org/2001/XMLSchema#int')), rdflib.term.Literal('Austria'))\n",
      "(rdflib.term.Literal('Hubert Raudaschl', lang='en'), rdflib.term.Literal('33', datatype=rdflib.term.URIRef('http://www.w3.org/2001/XMLSchema#int')), rdflib.term.Literal('Austria'))\n",
      "(rdflib.term.Literal('Hubert Raudaschl', lang='en'), rdflib.term.Literal('37', datatype=rdflib.term.URIRef('http://www.w3.org/2001/XMLSchema#int')), rdflib.term.Literal('Austria'))\n",
      "(rdflib.term.Literal('Hubert Raudaschl', lang='en'), rdflib.term.Literal('41', datatype=rdflib.term.URIRef('http://www.w3.org/2001/XMLSchema#int')), rdflib.term.Literal('Austria'))\n",
      "(rdflib.term.Literal('Hubert Raudaschl', lang='en'), rdflib.term.Literal('46', datatype=rdflib.term.URIRef('http://www.w3.org/2001/XMLSchema#int')), rdflib.term.Literal('Austria'))\n",
      "(rdflib.term.Literal('Hubert Raudaschl', lang='en'), rdflib.term.Literal('49', datatype=rdflib.term.URIRef('http://www.w3.org/2001/XMLSchema#int')), rdflib.term.Literal('Austria'))\n",
      "(rdflib.term.Literal('Hubert Raudaschl', lang='en'), rdflib.term.Literal('53', datatype=rdflib.term.URIRef('http://www.w3.org/2001/XMLSchema#int')), rdflib.term.Literal('Austria'))\n"
     ]
    }
   ],
   "source": [
    "athlete = \"'Hubert Raudaschl'\"\n",
    "\n",
    "result = g.query(\"\"\"\n",
    "    PREFIX foaf:  <http://xmlns.com/foaf/0.1/>\n",
    "    PREFIX rdfs: <http://www.w3.org/2000/01/rdf-schema#>\n",
    "    PREFIX dbo: <http://dbpedia.org/ontology/>\n",
    "    PREFIX ex: <http://example.org/ontology/olympics/>\n",
    "    PREFIX noc: <http://example.org/resource/olympics/NOC/>\n",
    "\n",
    "    SELECT ?athleteLabel ?age ?country\n",
    "    WHERE {\n",
    "        ?athlete a foaf:Person;\n",
    "                 rdfs:label \"\"\" + athlete +\"\"\"@en;\n",
    "                 foaf:age ?age;\n",
    "                 rdfs:label ?athleteLabel;\n",
    "                 ex:noc ?noc .\n",
    "        ?noc dbo:country ?country .\n",
    "        FILTER (langMatches( lang(?athleteLabel), \"en\" ) )\n",
    "    }\n",
    "    ORDER BY ?age\n",
    "\"\"\")\n",
    "\n",
    "print(\"Total \",len(result))\n",
    "\n",
    "for row in result:\n",
    "    print(row)"
   ]
  },
  {
   "cell_type": "markdown",
   "metadata": {},
   "source": [
    "## 3. Output Formatting\n",
    "### Format %"
   ]
  },
  {
   "cell_type": "code",
   "execution_count": 8,
   "metadata": {},
   "outputs": [
    {
     "name": "stdout",
     "output_type": "stream",
     "text": [
      "Athlete: Hubert Raudaschl, Age: 22, COO: Austria\n",
      "Athlete: Hubert Raudaschl, Age: 26, COO: Austria\n",
      "Athlete: Hubert Raudaschl, Age: 30, COO: Austria\n",
      "Athlete: Hubert Raudaschl, Age: 33, COO: Austria\n",
      "Athlete: Hubert Raudaschl, Age: 37, COO: Austria\n",
      "Athlete: Hubert Raudaschl, Age: 41, COO: Austria\n",
      "Athlete: Hubert Raudaschl, Age: 46, COO: Austria\n",
      "Athlete: Hubert Raudaschl, Age: 49, COO: Austria\n",
      "Athlete: Hubert Raudaschl, Age: 53, COO: Austria\n"
     ]
    }
   ],
   "source": [
    "for row in result:\n",
    "    print(\"Athlete: %s, Age: %s, COO: %s\" % row)"
   ]
  },
  {
   "cell_type": "markdown",
   "metadata": {},
   "source": [
    "### with index"
   ]
  },
  {
   "cell_type": "code",
   "execution_count": 9,
   "metadata": {},
   "outputs": [
    {
     "name": "stdout",
     "output_type": "stream",
     "text": [
      "1 Athlete: Hubert Raudaschl, Age: 22, COO: Austria\n",
      "2 Athlete: Hubert Raudaschl, Age: 26, COO: Austria\n",
      "3 Athlete: Hubert Raudaschl, Age: 30, COO: Austria\n",
      "4 Athlete: Hubert Raudaschl, Age: 33, COO: Austria\n",
      "5 Athlete: Hubert Raudaschl, Age: 37, COO: Austria\n",
      "6 Athlete: Hubert Raudaschl, Age: 41, COO: Austria\n",
      "7 Athlete: Hubert Raudaschl, Age: 46, COO: Austria\n",
      "8 Athlete: Hubert Raudaschl, Age: 49, COO: Austria\n",
      "9 Athlete: Hubert Raudaschl, Age: 53, COO: Austria\n"
     ]
    }
   ],
   "source": [
    "for index,row in enumerate(result):\n",
    "    print(index+1, \"Athlete: %s, Age: %s, COO: %s\" % row)"
   ]
  },
  {
   "cell_type": "markdown",
   "metadata": {},
   "source": [
    "### with pandas DataFrame"
   ]
  },
  {
   "cell_type": "code",
   "execution_count": 10,
   "metadata": {},
   "outputs": [
    {
     "data": {
      "text/html": [
       "<div>\n",
       "<style scoped>\n",
       "    .dataframe tbody tr th:only-of-type {\n",
       "        vertical-align: middle;\n",
       "    }\n",
       "\n",
       "    .dataframe tbody tr th {\n",
       "        vertical-align: top;\n",
       "    }\n",
       "\n",
       "    .dataframe thead th {\n",
       "        text-align: right;\n",
       "    }\n",
       "</style>\n",
       "<table border=\"1\" class=\"dataframe\">\n",
       "  <thead>\n",
       "    <tr style=\"text-align: right;\">\n",
       "      <th></th>\n",
       "      <th>athleteLabel</th>\n",
       "      <th>age</th>\n",
       "      <th>country</th>\n",
       "    </tr>\n",
       "  </thead>\n",
       "  <tbody>\n",
       "    <tr>\n",
       "      <th>0</th>\n",
       "      <td>Hubert Raudaschl</td>\n",
       "      <td>22</td>\n",
       "      <td>Austria</td>\n",
       "    </tr>\n",
       "    <tr>\n",
       "      <th>1</th>\n",
       "      <td>Hubert Raudaschl</td>\n",
       "      <td>26</td>\n",
       "      <td>Austria</td>\n",
       "    </tr>\n",
       "    <tr>\n",
       "      <th>2</th>\n",
       "      <td>Hubert Raudaschl</td>\n",
       "      <td>30</td>\n",
       "      <td>Austria</td>\n",
       "    </tr>\n",
       "    <tr>\n",
       "      <th>3</th>\n",
       "      <td>Hubert Raudaschl</td>\n",
       "      <td>33</td>\n",
       "      <td>Austria</td>\n",
       "    </tr>\n",
       "    <tr>\n",
       "      <th>4</th>\n",
       "      <td>Hubert Raudaschl</td>\n",
       "      <td>37</td>\n",
       "      <td>Austria</td>\n",
       "    </tr>\n",
       "    <tr>\n",
       "      <th>5</th>\n",
       "      <td>Hubert Raudaschl</td>\n",
       "      <td>41</td>\n",
       "      <td>Austria</td>\n",
       "    </tr>\n",
       "    <tr>\n",
       "      <th>6</th>\n",
       "      <td>Hubert Raudaschl</td>\n",
       "      <td>46</td>\n",
       "      <td>Austria</td>\n",
       "    </tr>\n",
       "    <tr>\n",
       "      <th>7</th>\n",
       "      <td>Hubert Raudaschl</td>\n",
       "      <td>49</td>\n",
       "      <td>Austria</td>\n",
       "    </tr>\n",
       "    <tr>\n",
       "      <th>8</th>\n",
       "      <td>Hubert Raudaschl</td>\n",
       "      <td>53</td>\n",
       "      <td>Austria</td>\n",
       "    </tr>\n",
       "  </tbody>\n",
       "</table>\n",
       "</div>"
      ],
      "text/plain": [
       "       athleteLabel age  country\n",
       "0  Hubert Raudaschl  22  Austria\n",
       "1  Hubert Raudaschl  26  Austria\n",
       "2  Hubert Raudaschl  30  Austria\n",
       "3  Hubert Raudaschl  33  Austria\n",
       "4  Hubert Raudaschl  37  Austria\n",
       "5  Hubert Raudaschl  41  Austria\n",
       "6  Hubert Raudaschl  46  Austria\n",
       "7  Hubert Raudaschl  49  Austria\n",
       "8  Hubert Raudaschl  53  Austria"
      ]
     },
     "execution_count": 10,
     "metadata": {},
     "output_type": "execute_result"
    }
   ],
   "source": [
    "DataFrame(result, columns=result.vars)"
   ]
  },
  {
   "cell_type": "markdown",
   "metadata": {},
   "source": [
    "## 4. A 'LIKE' query for similar names"
   ]
  },
  {
   "cell_type": "code",
   "execution_count": 11,
   "metadata": {},
   "outputs": [
    {
     "data": {
      "text/html": [
       "<div>\n",
       "<style scoped>\n",
       "    .dataframe tbody tr th:only-of-type {\n",
       "        vertical-align: middle;\n",
       "    }\n",
       "\n",
       "    .dataframe tbody tr th {\n",
       "        vertical-align: top;\n",
       "    }\n",
       "\n",
       "    .dataframe thead th {\n",
       "        text-align: right;\n",
       "    }\n",
       "</style>\n",
       "<table border=\"1\" class=\"dataframe\">\n",
       "  <thead>\n",
       "    <tr style=\"text-align: right;\">\n",
       "      <th></th>\n",
       "      <th>Athletes</th>\n",
       "    </tr>\n",
       "  </thead>\n",
       "  <tbody>\n",
       "    <tr>\n",
       "      <th>1</th>\n",
       "      <td>Alexander Maier</td>\n",
       "    </tr>\n",
       "    <tr>\n",
       "      <th>2</th>\n",
       "      <td>Ariane Maier</td>\n",
       "    </tr>\n",
       "    <tr>\n",
       "      <th>3</th>\n",
       "      <td>Benjamin Maier</td>\n",
       "    </tr>\n",
       "    <tr>\n",
       "      <th>4</th>\n",
       "      <td>Hermann Maier</td>\n",
       "    </tr>\n",
       "    <tr>\n",
       "      <th>5</th>\n",
       "      <td>Markus Maier</td>\n",
       "    </tr>\n",
       "    <tr>\n",
       "      <th>6</th>\n",
       "      <td>Monika Maierhofer</td>\n",
       "    </tr>\n",
       "    <tr>\n",
       "      <th>7</th>\n",
       "      <td>Raphael Maier</td>\n",
       "    </tr>\n",
       "    <tr>\n",
       "      <th>8</th>\n",
       "      <td>Ulrike Maier</td>\n",
       "    </tr>\n",
       "  </tbody>\n",
       "</table>\n",
       "</div>"
      ],
      "text/plain": [
       "            Athletes\n",
       "1    Alexander Maier\n",
       "2       Ariane Maier\n",
       "3     Benjamin Maier\n",
       "4      Hermann Maier\n",
       "5       Markus Maier\n",
       "6  Monika Maierhofer\n",
       "7      Raphael Maier\n",
       "8       Ulrike Maier"
      ]
     },
     "execution_count": 11,
     "metadata": {},
     "output_type": "execute_result"
    }
   ],
   "source": [
    "athlete = \"'Maier'\"\n",
    "\n",
    "result = g.query(\"\"\"\n",
    "    PREFIX foaf:  <http://xmlns.com/foaf/0.1/>\n",
    "    PREFIX rdfs: <http://www.w3.org/2000/01/rdf-schema#>\n",
    "    PREFIX dbo: <http://dbpedia.org/ontology/>\n",
    "    PREFIX ex: <http://example.org/ontology/olympics/>\n",
    "    PREFIX noc: <http://example.org/resource/olympics/NOC/>\n",
    "\n",
    "    SELECT DISTINCT ?Athletes\n",
    "    WHERE {\n",
    "        ?athlete a foaf:Person;\n",
    "                 rdfs:label ?Athletes;\n",
    "        FILTER (langMatches( lang(?Athletes), \"en\" ) )\n",
    "        FILTER CONTAINS(?Athletes,\"\"\" + athlete +\"\"\")\n",
    "    }\n",
    "    ORDER BY ?Athletes\n",
    "\"\"\")\n",
    "\n",
    "df = DataFrame(result, columns=result.vars)\n",
    "df.index +=1\n",
    "df\n"
   ]
  },
  {
   "cell_type": "markdown",
   "metadata": {},
   "source": [
    "## 5. What is the average age of all athletes?"
   ]
  },
  {
   "cell_type": "code",
   "execution_count": 12,
   "metadata": {},
   "outputs": [
    {
     "name": "stdout",
     "output_type": "stream",
     "text": [
      "Average Age: 27\n"
     ]
    }
   ],
   "source": [
    "result = g.query(\"\"\"\n",
    "    PREFIX foaf:  <http://xmlns.com/foaf/0.1/>\n",
    "    PREFIX rdfs: <http://www.w3.org/2000/01/rdf-schema#>\n",
    "\n",
    "    SELECT (ROUND(AVG(?age)) AS ?rounded_average_age)\n",
    "    WHERE {\n",
    "        ?athlete a foaf:Person;\n",
    "                 foaf:age ?age; \n",
    "    }\n",
    "\"\"\")   \n",
    "for row in result:\n",
    "    print(\"Average Age: %s\" % row)"
   ]
  },
  {
   "cell_type": "markdown",
   "metadata": {},
   "source": [
    "## 6. Who were the oldest and the youngest Austrian athletes?"
   ]
  },
  {
   "cell_type": "code",
   "execution_count": 13,
   "metadata": {},
   "outputs": [
    {
     "data": {
      "text/html": [
       "<div>\n",
       "<style scoped>\n",
       "    .dataframe tbody tr th:only-of-type {\n",
       "        vertical-align: middle;\n",
       "    }\n",
       "\n",
       "    .dataframe tbody tr th {\n",
       "        vertical-align: top;\n",
       "    }\n",
       "\n",
       "    .dataframe thead th {\n",
       "        text-align: right;\n",
       "    }\n",
       "</style>\n",
       "<table border=\"1\" class=\"dataframe\">\n",
       "  <thead>\n",
       "    <tr style=\"text-align: right;\">\n",
       "      <th></th>\n",
       "      <th>Name</th>\n",
       "      <th>Age</th>\n",
       "    </tr>\n",
       "  </thead>\n",
       "  <tbody>\n",
       "    <tr>\n",
       "      <th>0</th>\n",
       "      <td>Werner Grieshofer</td>\n",
       "      <td>12</td>\n",
       "    </tr>\n",
       "    <tr>\n",
       "      <th>1</th>\n",
       "      <td>Albin Dbrich</td>\n",
       "      <td>76</td>\n",
       "    </tr>\n",
       "  </tbody>\n",
       "</table>\n",
       "</div>"
      ],
      "text/plain": [
       "                Name Age\n",
       "0  Werner Grieshofer  12\n",
       "1       Albin Dbrich  76"
      ]
     },
     "execution_count": 13,
     "metadata": {},
     "output_type": "execute_result"
    }
   ],
   "source": [
    "result = g.query(\"\"\"\n",
    "PREFIX foaf:  <http://xmlns.com/foaf/0.1/>\n",
    "PREFIX rdfs: <http://www.w3.org/2000/01/rdf-schema#>\n",
    "\n",
    "SELECT ?Name ?Age WHERE {\n",
    "{\n",
    "    SELECT ?Name ?Age\n",
    "    WHERE {\n",
    "    ?athlete a foaf:Person;\n",
    "             rdfs:label ?Name;\n",
    "             foaf:age ?Age;\n",
    "    }\n",
    "    ORDER BY ASC(?Age)\n",
    "    LIMIT 1\n",
    "}\n",
    "UNION {\n",
    "    {\n",
    "    SELECT ?Name ?Age\n",
    "        WHERE {\n",
    "        ?athlete a foaf:Person;\n",
    "                 rdfs:label ?Name;\n",
    "                 foaf:age ?Age;\n",
    "        }\n",
    "        ORDER BY DESC(?Age)\n",
    "        LIMIT 1\n",
    "    } \n",
    "} \n",
    "}\n",
    "\"\"\")   \n",
    "\n",
    "DataFrame(result, columns=result.vars)"
   ]
  },
  {
   "cell_type": "code",
   "execution_count": null,
   "metadata": {},
   "outputs": [],
   "source": []
  }
 ],
 "metadata": {
  "kernelspec": {
   "display_name": "Python 3",
   "language": "python",
   "name": "python3"
  },
  "language_info": {
   "codemirror_mode": {
    "name": "ipython",
    "version": 3
   },
   "file_extension": ".py",
   "mimetype": "text/x-python",
   "name": "python",
   "nbconvert_exporter": "python",
   "pygments_lexer": "ipython3",
   "version": "3.7.6"
  }
 },
 "nbformat": 4,
 "nbformat_minor": 2
}
