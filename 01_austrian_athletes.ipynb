{
 "cells": [
  {
   "cell_type": "markdown",
   "metadata": {},
   "source": [
    "## Playing with Austrian athletes and formatting options\n",
    "\n",
    "Contents\n",
    "* combine Athletes_01_AUT.ttl and noc_regions.ttl\n",
    "* how many Austrians took part in OGs\n",
    "* query an athlete, order by age and see how many times he/she took part in OGs\n",
    "* format the above output in different ways\n",
    "* average Age of all Austrian athletes\n",
    "* oldest and youngest athlete"
   ]
  },
  {
   "cell_type": "markdown",
   "metadata": {},
   "source": [
    "### Uncomment if not installed"
   ]
  },
  {
   "cell_type": "code",
   "execution_count": 1,
   "metadata": {},
   "outputs": [],
   "source": [
    "# import sys\n",
    "# !{sys.executable} -m pip install rdflib pandas"
   ]
  },
  {
   "cell_type": "code",
   "execution_count": 2,
   "metadata": {},
   "outputs": [],
   "source": [
    "from rdflib import Graph\n",
    "from pandas import DataFrame"
   ]
  },
  {
   "cell_type": "markdown",
   "metadata": {},
   "source": [
    "### Import ttl files"
   ]
  },
  {
   "cell_type": "code",
   "execution_count": 3,
   "metadata": {},
   "outputs": [
    {
     "name": "stdout",
     "output_type": "stream",
     "text": [
      "15317\n"
     ]
    }
   ],
   "source": [
    "g = Graph()\n",
    "g.parse(\"ttl/Athletes_01_AUT.ttl\", format=\"turtle\")\n",
    "print(len(g))"
   ]
  },
  {
   "cell_type": "code",
   "execution_count": 4,
   "metadata": {},
   "outputs": [
    {
     "name": "stdout",
     "output_type": "stream",
     "text": [
      "15547\n"
     ]
    }
   ],
   "source": [
    "g.parse(\"ttl/noc_regions.ttl\", format=\"turtle\")\n",
    "print(len(g))"
   ]
  },
  {
   "cell_type": "markdown",
   "metadata": {},
   "source": [
    "### How many Austrians took part in Olympic Games"
   ]
  },
  {
   "cell_type": "code",
   "execution_count": 73,
   "metadata": {},
   "outputs": [
    {
     "name": "stdout",
     "output_type": "stream",
     "text": [
      "2334 Austrian took part\n"
     ]
    }
   ],
   "source": [
    "result = g.query(\"\"\"\n",
    "PREFIX foaf:  <http://xmlns.com/foaf/0.1/>\n",
    "PREFIX rdfs: <http://www.w3.org/2000/01/rdf-schema#>\n",
    "\n",
    "SELECT (COUNT(DISTINCT ?name) AS ?count)\n",
    "WHERE {\n",
    "    ?athlete a foaf:Person;\n",
    "             rdfs:label ?name;\n",
    "}\n",
    "\"\"\")\n",
    "\n",
    "for row in result:\n",
    "    print(\"%s Austrian took part\" % row)"
   ]
  },
  {
   "cell_type": "markdown",
   "metadata": {},
   "source": [
    "### Query Name, order by age and see how many times an Athlete took part in OGs: \n",
    "\n",
    "eg: Hubert Raudaschl, Christoph Sumann, Hermann Maier, ..."
   ]
  },
  {
   "cell_type": "code",
   "execution_count": 74,
   "metadata": {},
   "outputs": [
    {
     "name": "stdout",
     "output_type": "stream",
     "text": [
      "Total  9\n",
      "(rdflib.term.Literal('Hubert Raudaschl'), rdflib.term.Literal('22', datatype=rdflib.term.URIRef('http://www.w3.org/2001/XMLSchema#int')), rdflib.term.Literal('Austria'))\n",
      "(rdflib.term.Literal('Hubert Raudaschl'), rdflib.term.Literal('26', datatype=rdflib.term.URIRef('http://www.w3.org/2001/XMLSchema#int')), rdflib.term.Literal('Austria'))\n",
      "(rdflib.term.Literal('Hubert Raudaschl'), rdflib.term.Literal('30', datatype=rdflib.term.URIRef('http://www.w3.org/2001/XMLSchema#int')), rdflib.term.Literal('Austria'))\n",
      "(rdflib.term.Literal('Hubert Raudaschl'), rdflib.term.Literal('33', datatype=rdflib.term.URIRef('http://www.w3.org/2001/XMLSchema#int')), rdflib.term.Literal('Austria'))\n",
      "(rdflib.term.Literal('Hubert Raudaschl'), rdflib.term.Literal('37', datatype=rdflib.term.URIRef('http://www.w3.org/2001/XMLSchema#int')), rdflib.term.Literal('Austria'))\n",
      "(rdflib.term.Literal('Hubert Raudaschl'), rdflib.term.Literal('41', datatype=rdflib.term.URIRef('http://www.w3.org/2001/XMLSchema#int')), rdflib.term.Literal('Austria'))\n",
      "(rdflib.term.Literal('Hubert Raudaschl'), rdflib.term.Literal('46', datatype=rdflib.term.URIRef('http://www.w3.org/2001/XMLSchema#int')), rdflib.term.Literal('Austria'))\n",
      "(rdflib.term.Literal('Hubert Raudaschl'), rdflib.term.Literal('49', datatype=rdflib.term.URIRef('http://www.w3.org/2001/XMLSchema#int')), rdflib.term.Literal('Austria'))\n",
      "(rdflib.term.Literal('Hubert Raudaschl'), rdflib.term.Literal('53', datatype=rdflib.term.URIRef('http://www.w3.org/2001/XMLSchema#int')), rdflib.term.Literal('Austria'))\n"
     ]
    }
   ],
   "source": [
    "result = g.query(\"\"\"\n",
    "PREFIX foaf:  <http://xmlns.com/foaf/0.1/>\n",
    "PREFIX rdfs: <http://www.w3.org/2000/01/rdf-schema#>\n",
    "PREFIX dbo: <http://dbpedia.org/ontology/>\n",
    "PREFIX ex: <http://example.org/ontology/olympics/>\n",
    "PREFIX noc: <http://example.org/resource/olympics/NOC/>\n",
    "\n",
    "SELECT ?athleteLabel ?age ?country\n",
    "WHERE {\n",
    "    ?athlete a foaf:Person;\n",
    "             rdfs:label \"Hubert Raudaschl\";\n",
    "             foaf:age ?age;\n",
    "             rdfs:label ?athleteLabel;\n",
    "             ex:noc ?noc .\n",
    "    ?noc dbo:ground ?country .\n",
    "}\n",
    "ORDER BY ?age\n",
    "\"\"\")\n",
    "\n",
    "print(\"Total \",len(result))\n",
    "\n",
    "for row in result:\n",
    "    print(row)"
   ]
  },
  {
   "cell_type": "markdown",
   "metadata": {},
   "source": [
    "#### Format %"
   ]
  },
  {
   "cell_type": "code",
   "execution_count": 30,
   "metadata": {},
   "outputs": [
    {
     "name": "stdout",
     "output_type": "stream",
     "text": [
      "Total:  9\n",
      "Athlete: Hubert Raudaschl, Age: 22, COO: Austria\n",
      "Athlete: Hubert Raudaschl, Age: 26, COO: Austria\n",
      "Athlete: Hubert Raudaschl, Age: 30, COO: Austria\n",
      "Athlete: Hubert Raudaschl, Age: 33, COO: Austria\n",
      "Athlete: Hubert Raudaschl, Age: 37, COO: Austria\n",
      "Athlete: Hubert Raudaschl, Age: 41, COO: Austria\n",
      "Athlete: Hubert Raudaschl, Age: 46, COO: Austria\n",
      "Athlete: Hubert Raudaschl, Age: 49, COO: Austria\n",
      "Athlete: Hubert Raudaschl, Age: 53, COO: Austria\n"
     ]
    }
   ],
   "source": [
    "print(\"Total: \",len(result))\n",
    "\n",
    "for row in result:\n",
    "    print(\"Athlete: %s, Age: %s, COO: %s\" % row)"
   ]
  },
  {
   "cell_type": "markdown",
   "metadata": {},
   "source": [
    "#### with index"
   ]
  },
  {
   "cell_type": "code",
   "execution_count": 31,
   "metadata": {},
   "outputs": [
    {
     "name": "stdout",
     "output_type": "stream",
     "text": [
      "1 Athlete: Hubert Raudaschl, Age: 22, COO: Austria\n",
      "2 Athlete: Hubert Raudaschl, Age: 26, COO: Austria\n",
      "3 Athlete: Hubert Raudaschl, Age: 30, COO: Austria\n",
      "4 Athlete: Hubert Raudaschl, Age: 33, COO: Austria\n",
      "5 Athlete: Hubert Raudaschl, Age: 37, COO: Austria\n",
      "6 Athlete: Hubert Raudaschl, Age: 41, COO: Austria\n",
      "7 Athlete: Hubert Raudaschl, Age: 46, COO: Austria\n",
      "8 Athlete: Hubert Raudaschl, Age: 49, COO: Austria\n",
      "9 Athlete: Hubert Raudaschl, Age: 53, COO: Austria\n"
     ]
    }
   ],
   "source": [
    "for index,row in enumerate(result):\n",
    "    print(index+1, \"Athlete: %s, Age: %s, COO: %s\" % row)"
   ]
  },
  {
   "cell_type": "markdown",
   "metadata": {},
   "source": [
    "#### with panda DataFrame"
   ]
  },
  {
   "cell_type": "code",
   "execution_count": 32,
   "metadata": {},
   "outputs": [
    {
     "data": {
      "text/html": [
       "<div>\n",
       "<style scoped>\n",
       "    .dataframe tbody tr th:only-of-type {\n",
       "        vertical-align: middle;\n",
       "    }\n",
       "\n",
       "    .dataframe tbody tr th {\n",
       "        vertical-align: top;\n",
       "    }\n",
       "\n",
       "    .dataframe thead th {\n",
       "        text-align: right;\n",
       "    }\n",
       "</style>\n",
       "<table border=\"1\" class=\"dataframe\">\n",
       "  <thead>\n",
       "    <tr style=\"text-align: right;\">\n",
       "      <th></th>\n",
       "      <th>athleteLabel</th>\n",
       "      <th>age</th>\n",
       "      <th>country</th>\n",
       "    </tr>\n",
       "  </thead>\n",
       "  <tbody>\n",
       "    <tr>\n",
       "      <th>0</th>\n",
       "      <td>Hubert Raudaschl</td>\n",
       "      <td>22</td>\n",
       "      <td>Austria</td>\n",
       "    </tr>\n",
       "    <tr>\n",
       "      <th>1</th>\n",
       "      <td>Hubert Raudaschl</td>\n",
       "      <td>26</td>\n",
       "      <td>Austria</td>\n",
       "    </tr>\n",
       "    <tr>\n",
       "      <th>2</th>\n",
       "      <td>Hubert Raudaschl</td>\n",
       "      <td>30</td>\n",
       "      <td>Austria</td>\n",
       "    </tr>\n",
       "    <tr>\n",
       "      <th>3</th>\n",
       "      <td>Hubert Raudaschl</td>\n",
       "      <td>33</td>\n",
       "      <td>Austria</td>\n",
       "    </tr>\n",
       "    <tr>\n",
       "      <th>4</th>\n",
       "      <td>Hubert Raudaschl</td>\n",
       "      <td>37</td>\n",
       "      <td>Austria</td>\n",
       "    </tr>\n",
       "    <tr>\n",
       "      <th>5</th>\n",
       "      <td>Hubert Raudaschl</td>\n",
       "      <td>41</td>\n",
       "      <td>Austria</td>\n",
       "    </tr>\n",
       "    <tr>\n",
       "      <th>6</th>\n",
       "      <td>Hubert Raudaschl</td>\n",
       "      <td>46</td>\n",
       "      <td>Austria</td>\n",
       "    </tr>\n",
       "    <tr>\n",
       "      <th>7</th>\n",
       "      <td>Hubert Raudaschl</td>\n",
       "      <td>49</td>\n",
       "      <td>Austria</td>\n",
       "    </tr>\n",
       "    <tr>\n",
       "      <th>8</th>\n",
       "      <td>Hubert Raudaschl</td>\n",
       "      <td>53</td>\n",
       "      <td>Austria</td>\n",
       "    </tr>\n",
       "  </tbody>\n",
       "</table>\n",
       "</div>"
      ],
      "text/plain": [
       "       athleteLabel age  country\n",
       "0  Hubert Raudaschl  22  Austria\n",
       "1  Hubert Raudaschl  26  Austria\n",
       "2  Hubert Raudaschl  30  Austria\n",
       "3  Hubert Raudaschl  33  Austria\n",
       "4  Hubert Raudaschl  37  Austria\n",
       "5  Hubert Raudaschl  41  Austria\n",
       "6  Hubert Raudaschl  46  Austria\n",
       "7  Hubert Raudaschl  49  Austria\n",
       "8  Hubert Raudaschl  53  Austria"
      ]
     },
     "execution_count": 32,
     "metadata": {},
     "output_type": "execute_result"
    }
   ],
   "source": [
    "DataFrame(result, columns=result.vars)"
   ]
  },
  {
   "cell_type": "markdown",
   "metadata": {},
   "source": [
    "### Average Age of all Austrian athletes"
   ]
  },
  {
   "cell_type": "code",
   "execution_count": 76,
   "metadata": {},
   "outputs": [
    {
     "name": "stdout",
     "output_type": "stream",
     "text": [
      "Average Age: 27\n"
     ]
    }
   ],
   "source": [
    "result = g.query(\"\"\"\n",
    "PREFIX foaf:  <http://xmlns.com/foaf/0.1/>\n",
    "PREFIX rdfs: <http://www.w3.org/2000/01/rdf-schema#>\n",
    "\n",
    "SELECT (ROUND(AVG(?age)) AS ?rounded_average_age)\n",
    "WHERE {\n",
    "    ?athlete a foaf:Person;\n",
    "             rdfs:label ?name;\n",
    "             foaf:age ?age; \n",
    "}\n",
    "\"\"\")   \n",
    "for row in result:\n",
    "    print(\"Average Age: %s\" % row)"
   ]
  },
  {
   "cell_type": "markdown",
   "metadata": {},
   "source": [
    "### Oldest and youngest athlete"
   ]
  },
  {
   "cell_type": "code",
   "execution_count": 72,
   "metadata": {},
   "outputs": [
    {
     "name": "stdout",
     "output_type": "stream",
     "text": [
      "Oldest: 76 \n",
      "Youngest: 12\n"
     ]
    }
   ],
   "source": [
    "result = g.query(\"\"\"\n",
    "PREFIX foaf:  <http://xmlns.com/foaf/0.1/>\n",
    "PREFIX rdfs: <http://www.w3.org/2000/01/rdf-schema#>\n",
    "\n",
    "SELECT (MAX(?age) as ?maxAge) (MIN(?age) as ?minAge)\n",
    "WHERE {\n",
    "    ?athlete a foaf:Person;\n",
    "             rdfs:label ?name;\n",
    "             foaf:age ?age;\n",
    "}\n",
    "\"\"\")   \n",
    "for row in result:\n",
    "    print (\"Oldest: %s \\nYoungest: %s\" % row)"
   ]
  },
  {
   "cell_type": "code",
   "execution_count": null,
   "metadata": {},
   "outputs": [],
   "source": []
  }
 ],
 "metadata": {
  "kernelspec": {
   "display_name": "Python 3",
   "language": "python",
   "name": "python3"
  },
  "language_info": {
   "codemirror_mode": {
    "name": "ipython",
    "version": 3
   },
   "file_extension": ".py",
   "mimetype": "text/x-python",
   "name": "python",
   "nbconvert_exporter": "python",
   "pygments_lexer": "ipython3",
   "version": "3.7.6"
  }
 },
 "nbformat": 4,
 "nbformat_minor": 2
}
