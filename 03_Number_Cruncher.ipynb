{
 "cells": [
  {
   "cell_type": "markdown",
   "metadata": {},
   "source": [
    "## Number crunching on the full Olympic dataset"
   ]
  },
  {
   "cell_type": "markdown",
   "metadata": {},
   "source": [
    "### Uncomment if not installed"
   ]
  },
  {
   "cell_type": "code",
   "execution_count": 33,
   "metadata": {},
   "outputs": [],
   "source": [
    "# import sys\n",
    "# !{sys.executable} -m pip install rdflib pandas"
   ]
  },
  {
   "cell_type": "code",
   "execution_count": 34,
   "metadata": {},
   "outputs": [],
   "source": [
    "from rdflib import Graph\n",
    "import pandas as pd"
   ]
  },
  {
   "cell_type": "markdown",
   "metadata": {},
   "source": [
    "### Import full ttl files"
   ]
  },
  {
   "cell_type": "code",
   "execution_count": 4,
   "metadata": {},
   "outputs": [],
   "source": [
    "source = \"ttl/full\""
   ]
  },
  {
   "cell_type": "code",
   "execution_count": 5,
   "metadata": {},
   "outputs": [
    {
     "name": "stdout",
     "output_type": "stream",
     "text": [
      "923757\n"
     ]
    }
   ],
   "source": [
    "g = Graph()\n",
    "g.parse(source + \"/Athletes.ttl\", format=\"turtle\")\n",
    "print(len(g))"
   ]
  },
  {
   "cell_type": "code",
   "execution_count": 6,
   "metadata": {},
   "outputs": [
    {
     "name": "stdout",
     "output_type": "stream",
     "text": [
      "923987\n"
     ]
    }
   ],
   "source": [
    "g.parse(\"ttl/NOC_Regions.ttl\", format=\"turtle\")\n",
    "print(len(g))"
   ]
  },
  {
   "cell_type": "code",
   "execution_count": 7,
   "metadata": {},
   "outputs": [
    {
     "name": "stdout",
     "output_type": "stream",
     "text": [
      "924278\n"
     ]
    }
   ],
   "source": [
    "g.parse(source + \"/Games.ttl\", format=\"turtle\")\n",
    "print(len(g))"
   ]
  },
  {
   "cell_type": "code",
   "execution_count": 8,
   "metadata": {},
   "outputs": [
    {
     "name": "stdout",
     "output_type": "stream",
     "text": [
      "926453\n"
     ]
    }
   ],
   "source": [
    "g.parse(source + \"/Events.ttl\", format=\"turtle\")\n",
    "print(len(g))"
   ]
  },
  {
   "cell_type": "code",
   "execution_count": 9,
   "metadata": {},
   "outputs": [
    {
     "name": "stdout",
     "output_type": "stream",
     "text": [
      "926456\n"
     ]
    }
   ],
   "source": [
    "g.parse(\"ttl/Medals.ttl\", format=\"turtle\")\n",
    "print(len(g))"
   ]
  },
  {
   "cell_type": "code",
   "execution_count": 10,
   "metadata": {},
   "outputs": [
    {
     "name": "stdout",
     "output_type": "stream",
     "text": [
      "1748889\n"
     ]
    }
   ],
   "source": [
    "g.parse(source + \"/Instance.ttl\", format=\"turtle\")\n",
    "print(len(g))"
   ]
  },
  {
   "cell_type": "markdown",
   "metadata": {},
   "source": [
    "### What are the chances of winning a medal as an Austrian?"
   ]
  },
  {
   "cell_type": "markdown",
   "metadata": {},
   "source": [
    "#### Summer Olympics"
   ]
  },
  {
   "cell_type": "code",
   "execution_count": 38,
   "metadata": {},
   "outputs": [
    {
     "name": "stdout",
     "output_type": "stream",
     "text": [
      "Summer medals total:  33840\n",
      "Austrian Summer medals total:  137\n",
      "Chance:  0.4 %\n"
     ]
    }
   ],
   "source": [
    "result = g.query(\"\"\"\n",
    "\n",
    "    PREFIX foaf:  <http://xmlns.com/foaf/0.1/>\n",
    "    PREFIX rdfs: <http://www.w3.org/2000/01/rdf-schema#>\n",
    "    PREFIX dbo: <http://dbpedia.org/ontology/>\n",
    "    PREFIX ex: <http://example.org/ontology/olympics/>\n",
    "\n",
    "    SELECT (COUNT (?medal) AS ?numMedals)\n",
    "    WHERE {\n",
    "        ?instance ex:athlete ?athlete;\n",
    "                    ex:medal ?medal;\n",
    "                    ex:games ?games .\n",
    "    \n",
    "        ?games ex:season ?season .\n",
    "        ?season rdfs:label \"Summer\"@en .\n",
    "    }\n",
    "\n",
    "\"\"\")\n",
    "\n",
    "for row in result:\n",
    "    res = \"%s\" % row\n",
    "\n",
    "numOfMedalsSummerTotal = int(res)\n",
    "print(\"Summer medals total: \", numOfMedalsSummerTotal)\n",
    "\n",
    "result = g.query(\"\"\"\n",
    "\n",
    "    PREFIX foaf:  <http://xmlns.com/foaf/0.1/>\n",
    "    PREFIX rdfs: <http://www.w3.org/2000/01/rdf-schema#>\n",
    "    PREFIX dbo: <http://dbpedia.org/ontology/>\n",
    "    PREFIX ex: <http://example.org/ontology/olympics/>\n",
    "    PREFIX noc: <http://example.org/resource/olympics/NOC/>\n",
    "\n",
    "    SELECT (COUNT (?medal) AS ?numMedals)\n",
    "    WHERE {\n",
    "        ?instance ex:athlete ?athlete;\n",
    "                    ex:medal ?medal;\n",
    "                    ex:games ?games .\n",
    "    \n",
    "        ?games ex:season ?season .\n",
    "        ?athlete ex:noc ?noc .\n",
    "        ?noc dbo:country \"Austria\" .\n",
    "        ?season rdfs:label \"Summer\"@en .\n",
    "    }\n",
    "\n",
    "\"\"\")\n",
    "\n",
    "for row in result:\n",
    "    res = \"%s\" % row\n",
    "\n",
    "numOfMedalsSummerAut = int(res)\n",
    "print(\"Austrian Summer medals total: \", numOfMedalsSummerAut)\n",
    "chanceSummer = round(100/numOfMedalsSummerTotal*numOfMedalsSummerAut,2)\n",
    "print(\"Chance: \", chanceSummer, \"%\")"
   ]
  },
  {
   "cell_type": "markdown",
   "metadata": {},
   "source": [
    "# Ouch!\n",
    "#### Winter Olympics"
   ]
  },
  {
   "cell_type": "code",
   "execution_count": 39,
   "metadata": {},
   "outputs": [
    {
     "name": "stdout",
     "output_type": "stream",
     "text": [
      "Winter medals total:  5668\n",
      "Austrian Winter medals total:  216\n",
      "Chance:  3.81 %\n"
     ]
    }
   ],
   "source": [
    "result = g.query(\"\"\"\n",
    "\n",
    "    PREFIX foaf:  <http://xmlns.com/foaf/0.1/>\n",
    "    PREFIX rdfs: <http://www.w3.org/2000/01/rdf-schema#>\n",
    "    PREFIX dbo: <http://dbpedia.org/ontology/>\n",
    "    PREFIX ex: <http://example.org/ontology/olympics/>\n",
    "\n",
    "    SELECT (COUNT (?medal) AS ?numMedals)\n",
    "    WHERE {\n",
    "        ?instance ex:athlete ?athlete;\n",
    "                    ex:medal ?medal;\n",
    "                    ex:games ?games .\n",
    "    \n",
    "        ?games ex:season ?season .\n",
    "        ?season rdfs:label \"Winter\"@en .\n",
    "    }\n",
    "\n",
    "\"\"\")\n",
    "\n",
    "for row in result:\n",
    "    res = \"%s\" % row\n",
    "\n",
    "numOfMedalsWinterTotal = int(res)\n",
    "print(\"Winter medals total: \", numOfMedalsWinterTotal)\n",
    "\n",
    "result = g.query(\"\"\"\n",
    "\n",
    "    PREFIX foaf:  <http://xmlns.com/foaf/0.1/>\n",
    "    PREFIX rdfs: <http://www.w3.org/2000/01/rdf-schema#>\n",
    "    PREFIX dbo: <http://dbpedia.org/ontology/>\n",
    "    PREFIX ex: <http://example.org/ontology/olympics/>\n",
    "    PREFIX noc: <http://example.org/resource/olympics/NOC/>\n",
    "\n",
    "    SELECT (COUNT (?medal) AS ?numMedals)\n",
    "    WHERE {\n",
    "        ?instance ex:athlete ?athlete;\n",
    "                    ex:medal ?medal;\n",
    "                    ex:games ?games .\n",
    "    \n",
    "        ?games ex:season ?season .\n",
    "        ?athlete ex:noc ?noc .\n",
    "        ?noc dbo:country \"Austria\" .\n",
    "        ?season rdfs:label \"Winter\"@en .\n",
    "    }\n",
    "\n",
    "\"\"\")\n",
    "\n",
    "for row in result:\n",
    "    res = \"%s\" % row\n",
    "\n",
    "numOfMedalsWinterAut = int(res)\n",
    "print(\"Austrian Winter medals total: \", numOfMedalsWinterAut)\n",
    "chanceWinter = round(100/numOfMedalsWinterTotal*numOfMedalsWinterAut,2)\n",
    "print(\"Chance: \", chanceWinter, \"%\")"
   ]
  },
  {
   "cell_type": "markdown",
   "metadata": {},
   "source": [
    "## Let's stick to Winter then ;-) \n",
    "### How about Alpine Skiing?"
   ]
  },
  {
   "cell_type": "code",
   "execution_count": 41,
   "metadata": {},
   "outputs": [
    {
     "name": "stdout",
     "output_type": "stream",
     "text": [
      "Alpine Skiing medals total:  428\n",
      "Austrian Alpine Skiing medals total:  73\n",
      "Chance:  17.06 %\n"
     ]
    }
   ],
   "source": [
    "result = g.query(\"\"\"\n",
    "\n",
    "    PREFIX foaf:  <http://xmlns.com/foaf/0.1/>\n",
    "    PREFIX rdfs: <http://www.w3.org/2000/01/rdf-schema#>\n",
    "    PREFIX dbo: <http://dbpedia.org/ontology/>\n",
    "    PREFIX ex: <http://example.org/ontology/olympics/>\n",
    "    PREFIX noc: <http://example.org/resource/olympics/NOC/>\n",
    "\n",
    "    SELECT (COUNT (?medal) AS ?numMedals)\n",
    "    WHERE {\n",
    "        ?instance ex:athlete ?athlete;\n",
    "                  ex:medal ?medal;\n",
    "                  ex:event ?event .\n",
    "    \n",
    "        ?event rdfs:subClassOf <http://example.org/resource/olympics/sport/AlpineSkiing> .\n",
    "\n",
    "    }\n",
    "\n",
    "\n",
    "\"\"\")\n",
    "\n",
    "for row in result:\n",
    "    res = \"%s\" % row\n",
    "\n",
    "numOfMedalsAlpineSkiingTotal = int(res)\n",
    "print(\"Alpine Skiing medals total: \", numOfMedalsAlpineSkiingTotal)\n",
    "\n",
    "result = g.query(\"\"\"\n",
    "\n",
    "    PREFIX foaf:  <http://xmlns.com/foaf/0.1/>\n",
    "    PREFIX rdfs: <http://www.w3.org/2000/01/rdf-schema#>\n",
    "    PREFIX dbo: <http://dbpedia.org/ontology/>\n",
    "    PREFIX ex: <http://example.org/ontology/olympics/>\n",
    "    PREFIX noc: <http://example.org/resource/olympics/NOC/>\n",
    "\n",
    "    SELECT (COUNT (?medal) AS ?numMedals)\n",
    "    WHERE {\n",
    "        ?instance ex:athlete ?athlete;\n",
    "                  ex:medal ?medal;\n",
    "                  ex:event ?event .\n",
    "    \n",
    "        ?event rdfs:subClassOf <http://example.org/resource/olympics/sport/AlpineSkiing> .\n",
    "    \n",
    "        ?athlete ex:noc ?noc .\n",
    "        ?noc dbo:country \"Austria\" .\n",
    "\n",
    "    }\n",
    "\n",
    "\"\"\")\n",
    "\n",
    "for row in result:\n",
    "    res = \"%s\" % row\n",
    "\n",
    "numOfMedalsAlpineSkiingAut = int(res)\n",
    "print(\"Austrian Alpine Skiing medals total: \", numOfMedalsAlpineSkiingAut)\n",
    "chanceSkiing = round(100/numOfMedalsAlpineSkiingTotal*numOfMedalsAlpineSkiingAut,2)\n",
    "print(\"Chance: \", chanceSkiing, \"%\")"
   ]
  },
  {
   "cell_type": "markdown",
   "metadata": {},
   "source": [
    "### No surprise really, we're a skiing nation :-)\n",
    "\n",
    "Let's see this on a graph:"
   ]
  },
  {
   "cell_type": "code",
   "execution_count": 44,
   "metadata": {},
   "outputs": [
    {
     "data": {
      "text/plain": [
       "Text(0.5, 0.98, 'Categorical Plotting')"
      ]
     },
     "execution_count": 44,
     "metadata": {},
     "output_type": "execute_result"
    },
    {
     "data": {
      "image/png": "[encoded data removed]",
      "text/plain": [
       "<Figure size 648x216 with 3 Axes>"
      ]
     },
     "metadata": {
      "needs_background": "light"
     },
     "output_type": "display_data"
    }
   ],
   "source": [
    "import matplotlib.pyplot as plt\n",
    "\n",
    "data = {'Summer': chanceSummer, 'Winter': chanceWinter, 'Skiing': chanceSkiing}\n",
    "names = list(data.keys())\n",
    "values = list(data.values())\n",
    "\n",
    "fig, axs = plt.subplots(1, 3, figsize=(9, 3), sharey=True)\n",
    "axs[0].bar(names, values)\n",
    "axs[1].scatter(names, values)\n",
    "axs[2].plot(names, values)\n",
    "fig.suptitle('Categorical Plotting')"
   ]
  },
  {
   "cell_type": "code",
   "execution_count": null,
   "metadata": {},
   "outputs": [],
   "source": []
  }
 ],
 "metadata": {
  "kernelspec": {
   "display_name": "Python 3",
   "language": "python",
   "name": "python3"
  },
  "language_info": {
   "codemirror_mode": {
    "name": "ipython",
    "version": 3
   },
   "file_extension": ".py",
   "mimetype": "text/x-python",
   "name": "python",
   "nbconvert_exporter": "python",
   "pygments_lexer": "ipython3",
   "version": "3.7.6"
  }
 },
 "nbformat": 4,
 "nbformat_minor": 2
}
